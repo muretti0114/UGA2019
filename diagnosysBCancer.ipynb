{
 "cells": [
  {
   "cell_type": "code",
   "execution_count": 4,
   "metadata": {},
   "outputs": [
    {
     "name": "stdout",
     "output_type": "stream",
     "text": [
      "b'{\"Results\":{\"output1\":{\"type\":\"table\",\"value\":{\"ColumnNames\":[\"Scored Probabilities for Class \\\\\"Best\\\\\"\",\"Scored Probabilities for Class \\\\\"Vg\\\\\"\",\"Scored Probabilities for Class \\\\\"Good\\\\\"\",\"Scored Probabilities for Class \\\\\"Pass\\\\\"\",\"Scored Probabilities for Class \\\\\"Fail\\\\\"\",\"Scored Labels\"],\"ColumnTypes\":[\"Double\",\"Double\",\"Double\",\"Double\",\"Double\",\"String\"],\"Values\":[[\"0.125\",\"0.75\",\"0.125\",\"0\",\"0\",\"Vg\"],[\"0.125\",\"0.75\",\"0.125\",\"0\",\"0\",\"Vg\"]]}}}}'\n"
     ]
    }
   ],
   "source": [
    "from tkinter import * \n",
    "# If you are using Python 3+, import tkinter instead of Tkinter\n",
    "import urllib\n",
    "# If you are using Python 3+, import urllib instead of urllib2\n",
    "\n",
    "import json\n",
    "#from tkMessageBox import *\n",
    "#If you are using Python 3+\n",
    "from tkinter.messagebox import *\n",
    "\n",
    "\n",
    "\n",
    "fenetre = Tk()\n",
    "fenetre.title(\"Diagnosys\")\n",
    "\n",
    "label = Label(fenetre, text=\"Enter the values (val1,...,VAl30):\")\n",
    "label.grid(row=0, columnspan=2, pady=8)\n",
    "\n",
    "compteur = 1\n",
    "\n",
    "values = StringVar()\n",
    "\n",
    "label = Label(fenetre, text=\"Values : \")\n",
    "label.grid(row=1, column=1, pady=5, padx=5)\n",
    "values.set(\"  M ,  G ,  Best ,  Best ,  Best ,  Y ,  Married ,  T ,  Free ,  Vh ,  Large ,  Il ,  Il ,  Service ,  Service ,  Large ,  Good ,  Govt ,  Eng ,  Large ,  Good  \")\n",
    "entree=Entry(fenetre,textvariable=values, width=10)\n",
    "entree.grid(row=1, column=2, pady=5, padx=5)\n",
    "def calcul():\n",
    "    val=values.get().split(',')\n",
    "\n",
    "data =  {\n",
    "\n",
    "        \"Inputs\": {\n",
    "\n",
    "                \"input1\":\n",
    "                {\n",
    "                    \"ColumnNames\": [\"ge\", \"cst\", \"tnp\", \"twp\", \"iap\", \"arr\", \"ls\", \"as\", \"fmi\", \"fs\", \"fq\", \"mq\", \"fo\", \"nf\", \"sh\", \"ss\", \"me\", \"tt\", \"atd\"],\n",
    "                    \"Values\": [ [ \"M\", \"G\", \"Best\", \"Best\", \"Best\", \"Y\", \"T\", \"Free\", \"Vh\", \"Large\", \"Il\", \"Il\", \"Service\", \"Large\", \"Good\", \"Govt\", \"Eng\", \"Large\", \"Good\" ], [ \"M\", \"G\", \"Best\", \"Best\", \"Best\", \"Y\", \"T\", \"Free\", \"Vh\", \"Large\", \"Il\", \"Il\", \"Service\", \"Large\", \"Good\", \"Govt\", \"Eng\", \"Large\", \"Good\" ], ]\n",
    "                },        },\n",
    "            \"GlobalParameters\": {\n",
    "}\n",
    "    }\n",
    "\n",
    "body = str.encode(json.dumps(data))\n",
    "\n",
    "url = 'https://ussouthcentral.services.azureml.net/workspaces/87d2ece9e93242a7a220085604a6c314/services/17d7543088f649c1b141ff92e2a3e8db/execute?api-version=2.0&details=true'\n",
    "api_key = 'hrdhObKQj2d5WJk6LCiqTL3oFfoQymQR/BkXsd//lsEuVj6OnpEI9+3z/zP5dUNuWdXY8sNYXYJU4Bw4VZYwWw=='\n",
    "headers = {'Content-Type':'application/json', 'Authorization':('Bearer '+ api_key)}\n",
    "\n",
    "req = urllib.request.Request(url, body, headers) \n",
    "try:\n",
    "    response = urllib.request.urlopen(req)\n",
    "\n",
    "    # If you are using Python 3+, replace urllib2 with urllib.request in the above code:\n",
    "    # req = urllib.request.Request(url, body, headers) \n",
    "    # response = urllib.request.urlopen(req)\n",
    "\n",
    "    result = response.read()\n",
    "    print(result) \n",
    "except urllib.HTTPError:\n",
    "    print(\"The request failed with status code: \" + str(error.code))\n",
    "\n",
    "    # Print the headers - they include the requert ID and the timestamp, which are useful for debugging the failure\n",
    "    print(error.info())\n",
    "\n",
    "    print(json.loads(error.read()))                 \n",
    "Tk.destroy\n",
    "\n",
    "bouton=Button(fenetre, text=\"Valider\",command=calcul)\n",
    "bouton.grid(row=11, column=4, pady=5, padx=5)\n",
    "bouton=Button(fenetre, text=\"Fermer\", command=fenetre.quit)\n",
    "bouton.grid(row=11, column=1, pady=5, padx=5)\n",
    "\n",
    "\n",
    "fenetre.mainloop()"
   ]
  },
  {
   "cell_type": "code",
   "execution_count": null,
   "metadata": {},
   "outputs": [],
   "source": []
  }
 ],
 "metadata": {
  "anaconda-cloud": {},
  "kernelspec": {
   "display_name": "Python 3",
   "language": "python",
   "name": "python3"
  },
  "language_info": {
   "codemirror_mode": {
    "name": "ipython",
    "version": 3
   },
   "file_extension": ".py",
   "mimetype": "text/x-python",
   "name": "python",
   "nbconvert_exporter": "python",
   "pygments_lexer": "ipython3",
   "version": "3.7.3"
  }
 },
 "nbformat": 4,
 "nbformat_minor": 1
}
