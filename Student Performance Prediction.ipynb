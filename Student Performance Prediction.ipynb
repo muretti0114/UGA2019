{
 "cells": [
  {
   "cell_type": "code",
   "execution_count": 20,
   "metadata": {},
   "outputs": [
    {
     "name": "stdout",
     "output_type": "stream",
     "text": [
      "b'{\"Results\":{\"output1\":{\"type\":\"table\",\"value\":{\"ColumnNames\":[\"esp\",\"Scored Labels\"],\"ColumnTypes\":[\"String\",\"String\"],\"Values\":[[\"0\",\"Vg\"],[\"Best\",\"Vg\"]]}}}}'\n"
     ]
    }
   ],
   "source": [
    "import urllib\n",
    "# If you are using Python 3+, import urllib instead of urllib2\n",
    "\n",
    "import json \n",
    "\n",
    "\n",
    "data =  {\n",
    "\n",
    "        \"Inputs\": {\n",
    "\n",
    "                \"input1\":\n",
    "                {\n",
    "                    \"ColumnNames\": [\"ge\", \"cst\", \"tnp\", \"twp\", \"iap\", \"esp\", \"arr\", \"ms\", \"ls\", \"as\", \"fmi\", \"fs\", \"fq\", \"mq\", \"fo\", \"mo\", \"nf\", \"sh\", \"ss\", \"me\", \"tt\", \"atd\"],\n",
    "                    \"Values\": [ [ \"M\", \"G\", \"Best\", \"Best\", \"Best\", \"\", \"Y\", \"Married\", \"T\", \"Free\", \"Vh\", \"Large\", \"Il\", \"Il\", \"Service\", \"Service\", \"Large\", \"Good\", \"Govt\", \"Eng\", \"Large\", \"Good\" ], ]\n",
    "                },        },\n",
    "            \"GlobalParameters\": {\n",
    "}\n",
    "    }\n",
    "\n",
    "body = str.encode(json.dumps(data))\n",
    "\n",
    "url = 'https://ussouthcentral.services.azureml.net/workspaces/87d2ece9e93242a7a220085604a6c314/services/17d7543088f649c1b141ff92e2a3e8db/execute?api-version=2.0&details=true'\n",
    "api_key = 'hrdhObKQj2d5WJk6LCiqTL3oFfoQymQR/BkXsd//lsEuVj6OnpEI9+3z/zP5dUNuWdXY8sNYXYJU4Bw4VZYwWw==' # Replace this with the API key for the web service\n",
    "headers = {'Content-Type':'application/json', 'Authorization':('Bearer '+ api_key)}\n",
    "\n",
    "req = urllib.request.Request(url, body, headers) \n",
    "\n",
    "try:\n",
    "    response = urllib.request.urlopen(req)\n",
    "\n",
    "    # If you are using Python 3+, replace urllib2 with urllib.request in the above code:\n",
    "    # req = urllib.request.Request(url, body, headers) \n",
    "    # response = urllib.request.urlopen(req)\n",
    "\n",
    "    result = response.read()\n",
    "    print(result) \n",
    "except urllib.HTTPError:\n",
    "    print(\"The request failed with status code: \" + str(error.code))\n",
    "\n",
    "    # Print the headers - they include the requert ID and the timestamp, which are useful for debugging the failure\n",
    "    print(error.info())\n",
    "\n",
    "    print(json.loads(error.read()))                 "
   ]
  },
  {
   "cell_type": "code",
   "execution_count": null,
   "metadata": {},
   "outputs": [],
   "source": []
  }
 ],
 "metadata": {
  "kernelspec": {
   "display_name": "Python 3",
   "language": "python",
   "name": "python3"
  },
  "language_info": {
   "codemirror_mode": {
    "name": "ipython",
    "version": 3
   },
   "file_extension": ".py",
   "mimetype": "text/x-python",
   "name": "python",
   "nbconvert_exporter": "python",
   "pygments_lexer": "ipython3",
   "version": "3.7.3"
  }
 },
 "nbformat": 4,
 "nbformat_minor": 2
}
